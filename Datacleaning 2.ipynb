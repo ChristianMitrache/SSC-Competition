{
 "cells": [
  {
   "cell_type": "code",
   "execution_count": 4,
   "id": "74626c16",
   "metadata": {},
   "outputs": [],
   "source": [
    "import pandas as pd\n",
    "clean_frame_pred = pd.read_csv(\"cleaned_dataset.csv\")\n",
    "merged_data = pd.read_csv('merged.csv')"
   ]
  },
  {
   "cell_type": "code",
   "execution_count": 7,
   "id": "19fd7a14",
   "metadata": {},
   "outputs": [
    {
     "data": {
      "text/plain": [
       "Index(['Unnamed: 0', 'Unnamed: 0.1', 'quadkey', 'avg_d_kbps', 'avg_u_kbps',\n",
       "       'avg_lat_ms', 'tests', 'devices', 'year', 'quarter', 'conn_type',\n",
       "       'PRUID', 'PRNAME', 'CDUID', 'CDNAME', 'DAUID', 'SACTYPE', 'DA_POP',\n",
       "       'PCUID', 'PCNAME', 'PCTYPE', 'PCCLASS', 'geometry', 'd_score',\n",
       "       'u_score', 'closest_city', 'closest_coord', 'distance_to_closest_city',\n",
       "       'closest_PC_name', 'closest_PC_dist'],\n",
       "      dtype='object')"
      ]
     },
     "execution_count": 7,
     "metadata": {},
     "output_type": "execute_result"
    }
   ],
   "source": [
    "merged_data.columns"
   ]
  },
  {
   "cell_type": "code",
   "execution_count": 3,
   "id": "5af9c037",
   "metadata": {},
   "outputs": [
    {
     "data": {
      "text/plain": [
       "Index(['avg_d_kbps', 'avg_u_kbps', 'avg_lat_ms', 'tests', 'devices', 'year',\n",
       "       'quarter', 'conn_type', 'PRUID', 'PRNAME', 'CDUID', 'CDNAME', 'DAUID',\n",
       "       'SACTYPE', 'DA_POP', 'PCTYPE', 'd_score', 'u_score', 'closest_city',\n",
       "       'distance_to_closest_city', 'closest_PC_name', 'closest_PC_dist', 'x',\n",
       "       'y', 'Y'],\n",
       "      dtype='object')"
      ]
     },
     "execution_count": 3,
     "metadata": {},
     "output_type": "execute_result"
    }
   ],
   "source": [
    "clean_frame_pred.columns"
   ]
  },
  {
   "cell_type": "code",
   "execution_count": 6,
   "id": "fd27e42b",
   "metadata": {},
   "outputs": [],
   "source": [
    "import numpy as np\n",
    "clean_frame_pred['total'] = np.ones(len(clean_frame_pred['y']))"
   ]
  },
  {
   "cell_type": "code",
   "execution_count": 7,
   "id": "ebb647bf",
   "metadata": {},
   "outputs": [
    {
     "data": {
      "text/plain": [
       "False"
      ]
     },
     "execution_count": 7,
     "metadata": {},
     "output_type": "execute_result"
    }
   ],
   "source": [
    "clean_frame_pred.isnull().values.any()"
   ]
  },
  {
   "cell_type": "code",
   "execution_count": 10,
   "id": "35b33e00",
   "metadata": {
    "scrolled": true
   },
   "outputs": [
    {
     "data": {
      "text/html": [
       "<div>\n",
       "<style scoped>\n",
       "    .dataframe tbody tr th:only-of-type {\n",
       "        vertical-align: middle;\n",
       "    }\n",
       "\n",
       "    .dataframe tbody tr th {\n",
       "        vertical-align: top;\n",
       "    }\n",
       "\n",
       "    .dataframe thead tr th {\n",
       "        text-align: left;\n",
       "    }\n",
       "\n",
       "    .dataframe thead tr:last-of-type th {\n",
       "        text-align: right;\n",
       "    }\n",
       "</style>\n",
       "<table border=\"1\" class=\"dataframe\">\n",
       "  <thead>\n",
       "    <tr>\n",
       "      <th></th>\n",
       "      <th></th>\n",
       "      <th></th>\n",
       "      <th></th>\n",
       "      <th>x</th>\n",
       "      <th>y</th>\n",
       "      <th>Y</th>\n",
       "      <th>distance_to_closest_city</th>\n",
       "      <th>closest_PC_dist</th>\n",
       "      <th>DA_POP</th>\n",
       "      <th>total</th>\n",
       "    </tr>\n",
       "    <tr>\n",
       "      <th></th>\n",
       "      <th></th>\n",
       "      <th></th>\n",
       "      <th></th>\n",
       "      <th>mean</th>\n",
       "      <th>mean</th>\n",
       "      <th>sum</th>\n",
       "      <th>mean</th>\n",
       "      <th>mean</th>\n",
       "      <th>mean</th>\n",
       "      <th>sum</th>\n",
       "    </tr>\n",
       "    <tr>\n",
       "      <th>DAUID</th>\n",
       "      <th>PRNAME</th>\n",
       "      <th>year</th>\n",
       "      <th>quarter</th>\n",
       "      <th></th>\n",
       "      <th></th>\n",
       "      <th></th>\n",
       "      <th></th>\n",
       "      <th></th>\n",
       "      <th></th>\n",
       "      <th></th>\n",
       "    </tr>\n",
       "  </thead>\n",
       "  <tbody>\n",
       "    <tr>\n",
       "      <th rowspan=\"5\" valign=\"top\">10010165</th>\n",
       "      <th rowspan=\"5\" valign=\"top\">Newfoundland and Labrador / Terre-Neuve-et-Labrador</th>\n",
       "      <th rowspan=\"4\" valign=\"top\">2019</th>\n",
       "      <th>Q1</th>\n",
       "      <td>8.978154e+06</td>\n",
       "      <td>2.146515e+06</td>\n",
       "      <td>2</td>\n",
       "      <td>8.078236e+05</td>\n",
       "      <td>3345.196212</td>\n",
       "      <td>505.0</td>\n",
       "      <td>3.0</td>\n",
       "    </tr>\n",
       "    <tr>\n",
       "      <th>Q2</th>\n",
       "      <td>8.978154e+06</td>\n",
       "      <td>2.146515e+06</td>\n",
       "      <td>3</td>\n",
       "      <td>8.078236e+05</td>\n",
       "      <td>3345.196212</td>\n",
       "      <td>505.0</td>\n",
       "      <td>3.0</td>\n",
       "    </tr>\n",
       "    <tr>\n",
       "      <th>Q3</th>\n",
       "      <td>8.978223e+06</td>\n",
       "      <td>2.146479e+06</td>\n",
       "      <td>4</td>\n",
       "      <td>8.078514e+05</td>\n",
       "      <td>3415.562549</td>\n",
       "      <td>505.0</td>\n",
       "      <td>4.0</td>\n",
       "    </tr>\n",
       "    <tr>\n",
       "      <th>Q4</th>\n",
       "      <td>8.978154e+06</td>\n",
       "      <td>2.146515e+06</td>\n",
       "      <td>3</td>\n",
       "      <td>8.078236e+05</td>\n",
       "      <td>3345.196212</td>\n",
       "      <td>505.0</td>\n",
       "      <td>3.0</td>\n",
       "    </tr>\n",
       "    <tr>\n",
       "      <th>2020</th>\n",
       "      <th>Q1</th>\n",
       "      <td>8.978154e+06</td>\n",
       "      <td>2.146515e+06</td>\n",
       "      <td>3</td>\n",
       "      <td>8.078236e+05</td>\n",
       "      <td>3345.196212</td>\n",
       "      <td>505.0</td>\n",
       "      <td>3.0</td>\n",
       "    </tr>\n",
       "    <tr>\n",
       "      <th>...</th>\n",
       "      <th>...</th>\n",
       "      <th>...</th>\n",
       "      <th>...</th>\n",
       "      <td>...</td>\n",
       "      <td>...</td>\n",
       "      <td>...</td>\n",
       "      <td>...</td>\n",
       "      <td>...</td>\n",
       "      <td>...</td>\n",
       "      <td>...</td>\n",
       "    </tr>\n",
       "    <tr>\n",
       "      <th>61060164</th>\n",
       "      <th>Northwest Territories / Territoires du Nord-Ouest</th>\n",
       "      <th>2021</th>\n",
       "      <th>Q4</th>\n",
       "      <td>5.093506e+06</td>\n",
       "      <td>3.095757e+06</td>\n",
       "      <td>1</td>\n",
       "      <td>9.594560e+05</td>\n",
       "      <td>3038.150717</td>\n",
       "      <td>275.0</td>\n",
       "      <td>3.0</td>\n",
       "    </tr>\n",
       "    <tr>\n",
       "      <th rowspan=\"3\" valign=\"top\">62040060</th>\n",
       "      <th rowspan=\"3\" valign=\"top\">Nunavut</th>\n",
       "      <th>2019</th>\n",
       "      <th>Q3</th>\n",
       "      <td>7.292991e+06</td>\n",
       "      <td>3.241209e+06</td>\n",
       "      <td>0</td>\n",
       "      <td>1.945731e+06</td>\n",
       "      <td>4576.250813</td>\n",
       "      <td>2320.0</td>\n",
       "      <td>1.0</td>\n",
       "    </tr>\n",
       "    <tr>\n",
       "      <th rowspan=\"2\" valign=\"top\">2021</th>\n",
       "      <th>Q1</th>\n",
       "      <td>7.292991e+06</td>\n",
       "      <td>3.241209e+06</td>\n",
       "      <td>0</td>\n",
       "      <td>1.945731e+06</td>\n",
       "      <td>4576.250813</td>\n",
       "      <td>2320.0</td>\n",
       "      <td>2.0</td>\n",
       "    </tr>\n",
       "    <tr>\n",
       "      <th>Q2</th>\n",
       "      <td>7.292991e+06</td>\n",
       "      <td>3.241209e+06</td>\n",
       "      <td>1</td>\n",
       "      <td>1.945731e+06</td>\n",
       "      <td>4576.250813</td>\n",
       "      <td>2320.0</td>\n",
       "      <td>1.0</td>\n",
       "    </tr>\n",
       "    <tr>\n",
       "      <th>62050020</th>\n",
       "      <th>Nunavut</th>\n",
       "      <th>2019</th>\n",
       "      <th>Q2</th>\n",
       "      <td>6.188403e+06</td>\n",
       "      <td>2.937126e+06</td>\n",
       "      <td>0</td>\n",
       "      <td>1.431788e+06</td>\n",
       "      <td>13641.731388</td>\n",
       "      <td>1520.0</td>\n",
       "      <td>1.0</td>\n",
       "    </tr>\n",
       "  </tbody>\n",
       "</table>\n",
       "<p>377148 rows × 7 columns</p>\n",
       "</div>"
      ],
      "text/plain": [
       "                                                                                     x  \\\n",
       "                                                                                  mean   \n",
       "DAUID    PRNAME                                             year quarter                 \n",
       "10010165 Newfoundland and Labrador / Terre-Neuve-et-Labr... 2019 Q1       8.978154e+06   \n",
       "                                                                 Q2       8.978154e+06   \n",
       "                                                                 Q3       8.978223e+06   \n",
       "                                                                 Q4       8.978154e+06   \n",
       "                                                            2020 Q1       8.978154e+06   \n",
       "...                                                                                ...   \n",
       "61060164 Northwest Territories / Territoires du Nord-Ouest  2021 Q4       5.093506e+06   \n",
       "62040060 Nunavut                                            2019 Q3       7.292991e+06   \n",
       "                                                            2021 Q1       7.292991e+06   \n",
       "                                                                 Q2       7.292991e+06   \n",
       "62050020 Nunavut                                            2019 Q2       6.188403e+06   \n",
       "\n",
       "                                                                                     y  \\\n",
       "                                                                                  mean   \n",
       "DAUID    PRNAME                                             year quarter                 \n",
       "10010165 Newfoundland and Labrador / Terre-Neuve-et-Labr... 2019 Q1       2.146515e+06   \n",
       "                                                                 Q2       2.146515e+06   \n",
       "                                                                 Q3       2.146479e+06   \n",
       "                                                                 Q4       2.146515e+06   \n",
       "                                                            2020 Q1       2.146515e+06   \n",
       "...                                                                                ...   \n",
       "61060164 Northwest Territories / Territoires du Nord-Ouest  2021 Q4       3.095757e+06   \n",
       "62040060 Nunavut                                            2019 Q3       3.241209e+06   \n",
       "                                                            2021 Q1       3.241209e+06   \n",
       "                                                                 Q2       3.241209e+06   \n",
       "62050020 Nunavut                                            2019 Q2       2.937126e+06   \n",
       "\n",
       "                                                                           Y  \\\n",
       "                                                                         sum   \n",
       "DAUID    PRNAME                                             year quarter       \n",
       "10010165 Newfoundland and Labrador / Terre-Neuve-et-Labr... 2019 Q1        2   \n",
       "                                                                 Q2        3   \n",
       "                                                                 Q3        4   \n",
       "                                                                 Q4        3   \n",
       "                                                            2020 Q1        3   \n",
       "...                                                                       ..   \n",
       "61060164 Northwest Territories / Territoires du Nord-Ouest  2021 Q4        1   \n",
       "62040060 Nunavut                                            2019 Q3        0   \n",
       "                                                            2021 Q1        0   \n",
       "                                                                 Q2        1   \n",
       "62050020 Nunavut                                            2019 Q2        0   \n",
       "\n",
       "                                                                         distance_to_closest_city  \\\n",
       "                                                                                             mean   \n",
       "DAUID    PRNAME                                             year quarter                            \n",
       "10010165 Newfoundland and Labrador / Terre-Neuve-et-Labr... 2019 Q1                  8.078236e+05   \n",
       "                                                                 Q2                  8.078236e+05   \n",
       "                                                                 Q3                  8.078514e+05   \n",
       "                                                                 Q4                  8.078236e+05   \n",
       "                                                            2020 Q1                  8.078236e+05   \n",
       "...                                                                                           ...   \n",
       "61060164 Northwest Territories / Territoires du Nord-Ouest  2021 Q4                  9.594560e+05   \n",
       "62040060 Nunavut                                            2019 Q3                  1.945731e+06   \n",
       "                                                            2021 Q1                  1.945731e+06   \n",
       "                                                                 Q2                  1.945731e+06   \n",
       "62050020 Nunavut                                            2019 Q2                  1.431788e+06   \n",
       "\n",
       "                                                                         closest_PC_dist  \\\n",
       "                                                                                    mean   \n",
       "DAUID    PRNAME                                             year quarter                   \n",
       "10010165 Newfoundland and Labrador / Terre-Neuve-et-Labr... 2019 Q1          3345.196212   \n",
       "                                                                 Q2          3345.196212   \n",
       "                                                                 Q3          3415.562549   \n",
       "                                                                 Q4          3345.196212   \n",
       "                                                            2020 Q1          3345.196212   \n",
       "...                                                                                  ...   \n",
       "61060164 Northwest Territories / Territoires du Nord-Ouest  2021 Q4          3038.150717   \n",
       "62040060 Nunavut                                            2019 Q3          4576.250813   \n",
       "                                                            2021 Q1          4576.250813   \n",
       "                                                                 Q2          4576.250813   \n",
       "62050020 Nunavut                                            2019 Q2         13641.731388   \n",
       "\n",
       "                                                                          DA_POP  \\\n",
       "                                                                            mean   \n",
       "DAUID    PRNAME                                             year quarter           \n",
       "10010165 Newfoundland and Labrador / Terre-Neuve-et-Labr... 2019 Q1        505.0   \n",
       "                                                                 Q2        505.0   \n",
       "                                                                 Q3        505.0   \n",
       "                                                                 Q4        505.0   \n",
       "                                                            2020 Q1        505.0   \n",
       "...                                                                          ...   \n",
       "61060164 Northwest Territories / Territoires du Nord-Ouest  2021 Q4        275.0   \n",
       "62040060 Nunavut                                            2019 Q3       2320.0   \n",
       "                                                            2021 Q1       2320.0   \n",
       "                                                                 Q2       2320.0   \n",
       "62050020 Nunavut                                            2019 Q2       1520.0   \n",
       "\n",
       "                                                                         total  \n",
       "                                                                           sum  \n",
       "DAUID    PRNAME                                             year quarter        \n",
       "10010165 Newfoundland and Labrador / Terre-Neuve-et-Labr... 2019 Q1        3.0  \n",
       "                                                                 Q2        3.0  \n",
       "                                                                 Q3        4.0  \n",
       "                                                                 Q4        3.0  \n",
       "                                                            2020 Q1        3.0  \n",
       "...                                                                        ...  \n",
       "61060164 Northwest Territories / Territoires du Nord-Ouest  2021 Q4        3.0  \n",
       "62040060 Nunavut                                            2019 Q3        1.0  \n",
       "                                                            2021 Q1        2.0  \n",
       "                                                                 Q2        1.0  \n",
       "62050020 Nunavut                                            2019 Q2        1.0  \n",
       "\n",
       "[377148 rows x 7 columns]"
      ]
     },
     "execution_count": 10,
     "metadata": {},
     "output_type": "execute_result"
    }
   ],
   "source": [
    "sub_pred = clean_frame_pred[['DAUID','conn_type','x','y','Y','distance_to_closest_city','closest_PC_dist',\n",
    "                             'DA_POP','total','PRNAME','year','quarter']]\n",
    "f = {'x':['mean'], 'y':['mean'],'Y':['sum'],\n",
    "     'distance_to_closest_city':['mean'],'closest_PC_dist':['mean'],'DA_POP':['mean'],'total':['sum']}\n",
    "grouped_df = sub_pred.groupby(by = ['DAUID','PRNAME','year','quarter']).agg(f)\n",
    "grouped_df"
   ]
  },
  {
   "cell_type": "code",
   "execution_count": 11,
   "id": "6877306c",
   "metadata": {},
   "outputs": [],
   "source": [
    "grouped_df.columns = ['x','y','Y','distance_to_closest_city','closest_PC_dist','DA_POP','total']"
   ]
  },
  {
   "cell_type": "code",
   "execution_count": 13,
   "id": "9c4a32b2",
   "metadata": {},
   "outputs": [],
   "source": [
    "mode_df= sub_pred.groupby(['DAUID','PRNAME','year','quarter'])['conn_type'].agg(pd.Series.mode).to_frame()"
   ]
  },
  {
   "cell_type": "code",
   "execution_count": 15,
   "id": "b4f15508",
   "metadata": {},
   "outputs": [],
   "source": [
    "final_clean_data_pred  = grouped_df.join(mode_df, on = ['DAUID','PRNAME','year','quarter'])"
   ]
  },
  {
   "cell_type": "code",
   "execution_count": 16,
   "id": "acd00354",
   "metadata": {},
   "outputs": [
    {
     "data": {
      "text/plain": [
       "False"
      ]
     },
     "execution_count": 16,
     "metadata": {},
     "output_type": "execute_result"
    }
   ],
   "source": [
    "clean_frame_pred.isnull().values.any()"
   ]
  },
  {
   "cell_type": "code",
   "execution_count": 22,
   "id": "a8002c1e",
   "metadata": {},
   "outputs": [],
   "source": [
    "final_clean_data_pred = final_clean_data_pred.reset_index(level=[1,2,3])"
   ]
  },
  {
   "cell_type": "code",
   "execution_count": 31,
   "id": "f0e043d6",
   "metadata": {},
   "outputs": [],
   "source": [
    "new_feature = np.zeros(len(final_clean_data_pred['x']))\n",
    "years = final_clean_data_pred['year']\n",
    "quarters = final_clean_data_pred['quarter']\n",
    "for i in range(0,len(quarters)):\n",
    "    new_feature[i] = 4*(float(years.iloc[i]) - 2019) + float(quarters.iloc[i][1])\n",
    "final_clean_data_pred['time'] = new_feature"
   ]
  },
  {
   "cell_type": "code",
   "execution_count": 39,
   "id": "19e57793",
   "metadata": {},
   "outputs": [],
   "source": [
    "final_clean_data_pred = final_clean_data_pred.drop(columns = ['year','quarter'])\n",
    "final_quarter_data = final_clean_data_pred.loc[final_clean_data_pred['time'] == 12]\n",
    "est_data = final_clean_data_pred.loc[final_clean_data_pred['time'] != 12]"
   ]
  },
  {
   "cell_type": "code",
   "execution_count": 41,
   "id": "50ac7a8d",
   "metadata": {},
   "outputs": [],
   "source": [
    "est_data.to_csv('estimation_data_full.csv')"
   ]
  },
  {
   "cell_type": "code",
   "execution_count": 42,
   "id": "a6cc3aaa",
   "metadata": {},
   "outputs": [],
   "source": [
    "final_quarter_data.to_csv('final_quarter_data.csv')"
   ]
  }
 ],
 "metadata": {
  "kernelspec": {
   "display_name": "Python 3",
   "language": "python",
   "name": "python3"
  },
  "language_info": {
   "codemirror_mode": {
    "name": "ipython",
    "version": 3
   },
   "file_extension": ".py",
   "mimetype": "text/x-python",
   "name": "python",
   "nbconvert_exporter": "python",
   "pygments_lexer": "ipython3",
   "version": "3.9.5"
  }
 },
 "nbformat": 4,
 "nbformat_minor": 5
}
